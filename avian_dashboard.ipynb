{
  "nbformat": 4,
  "nbformat_minor": 0,
  "metadata": {
    "colab": {
      "provenance": []
    },
    "kernelspec": {
      "name": "python3",
      "display_name": "Python 3"
    },
    "language_info": {
      "name": "python"
    }
  },
  "cells": [
    {
      "cell_type": "code",
      "source": [
        "from google.colab import drive\n",
        "drive.mount('/content/drive')\n"
      ],
      "metadata": {
        "colab": {
          "base_uri": "https://localhost:8080/"
        },
        "id": "UfDIg5feLTqX",
        "outputId": "e4e33988-a6fd-46d8-ac22-9a2c0230d2af"
      },
      "execution_count": 1,
      "outputs": [
        {
          "output_type": "stream",
          "name": "stdout",
          "text": [
            "Mounted at /content/drive\n"
          ]
        }
      ]
    },
    {
      "cell_type": "code",
      "source": [
        "import pandas as pd\n",
        "import statsmodels.api as sm\n",
        "from patsy import dmatrices\n",
        "import seaborn as sns\n",
        "import matplotlib.pyplot as plt\n"
      ],
      "metadata": {
        "id": "-ocI-7pTE7eI"
      },
      "execution_count": 7,
      "outputs": []
    },
    {
      "cell_type": "code",
      "source": [
        "\n",
        "# Load and preprocess the dataset\n",
        "df = pd.read_csv(\"/content/drive/My Drive/Dataset_PRT 564.csv\")\n",
        "\n",
        "# Aggregate data by Region and Year\n",
        "df_agg = df.groupby(['Region', 'Year']).size().reset_index(name='Case_Count')\n",
        "\n",
        "# One-hot encode categorical predictors\n",
        "df_agg = pd.get_dummies(df_agg, columns=['Region'], drop_first=True)\n",
        "# Replace spaces with underscores in column names\n",
        "df_agg.columns = df_agg.columns.str.replace(' ', '_')\n",
        "\n",
        "# Define regression formula\n",
        "formula = 'Case_Count ~ Year + ' + ' + '.join([col for col in df_agg.columns if 'Region_' in col])"
      ],
      "metadata": {
        "id": "ivhKdgJQE0i0"
      },
      "execution_count": 11,
      "outputs": []
    },
    {
      "cell_type": "code",
      "source": [
        "# Fit Poisson regression model\n",
        "y, X = dmatrices(formula, df_agg, return_type='dataframe')\n",
        "poisson_model = sm.GLM(y, X, family=sm.families.Poisson()).fit()"
      ],
      "metadata": {
        "id": "gBeSR4kbFFCB"
      },
      "execution_count": 12,
      "outputs": []
    },
    {
      "cell_type": "code",
      "source": [
        "# Print model summaries\n",
        "print(\"Poisson Model Summary:\")\n",
        "print(poisson_model.summary())"
      ],
      "metadata": {
        "colab": {
          "base_uri": "https://localhost:8080/"
        },
        "id": "Ajq3ssrtFTyI",
        "outputId": "cb807501-b115-4935-a60d-85f5d0d916a7"
      },
      "execution_count": 13,
      "outputs": [
        {
          "output_type": "stream",
          "name": "stdout",
          "text": [
            "Poisson Model Summary:\n",
            "                 Generalized Linear Model Regression Results                  \n",
            "==============================================================================\n",
            "Dep. Variable:             Case_Count   No. Observations:                  138\n",
            "Model:                            GLM   Df Residuals:                       89\n",
            "Model Family:                 Poisson   Df Model:                           48\n",
            "Link Function:                    Log   Scale:                          1.0000\n",
            "Method:                          IRLS   Log-Likelihood:                -255.77\n",
            "Date:                Tue, 22 Apr 2025   Deviance:                       147.30\n",
            "Time:                        15:22:44   Pearson chi2:                     160.\n",
            "No. Iterations:                     5   Pseudo R-squ. (CS):             0.8744\n",
            "Covariance Type:            nonrobust                                         \n",
            "=====================================================================================================================\n",
            "                                                        coef    std err          z      P>|z|      [0.025      0.975]\n",
            "---------------------------------------------------------------------------------------------------------------------\n",
            "Intercept                                           280.8853     33.024      8.506      0.000     216.160     345.611\n",
            "Region_All[T.True]                                    0.1395      1.414      0.099      0.921      -2.632       2.912\n",
            "Region_Ayrshire[T.True]                               0.7721      1.061      0.728      0.467      -1.308       2.852\n",
            "Region_Buckinghamshire[T.True]                       -0.1395      1.414     -0.099      0.921      -2.912       2.632\n",
            "Region_Carmarthenshire[T.True]                        0.8372      1.418      0.591      0.555      -1.941       3.616\n",
            "Region_Ceredigion[T.True]                             0.4186      1.415      0.296      0.767      -2.355       3.192\n",
            "Region_Cornwall_and_Isles_of_Scilly[T.True]           0.8852      1.229      0.720      0.471      -1.523       3.294\n",
            "Region_Cumbria[T.True]                                0.2892      1.225      0.236      0.813      -2.112       2.690\n",
            "Region_Derbyshire[T.True]                             1.2558      1.422      0.883      0.377      -1.531       4.043\n",
            "Region_Devon[T.True]                                  0.7754      1.096      0.708      0.479      -1.372       2.923\n",
            "Region_Dorset[T.True]                                 0.4666      1.226      0.381      0.703      -1.936       2.869\n",
            "Region_Duhram[T.True]                                 0.4186      1.415      0.296      0.767      -2.355       3.192\n",
            "Region_East_Midlands[T.True]                          1.8880      1.025      1.841      0.066      -0.122       3.898\n",
            "Region_East_Riding_and_North_Lincolnshire[T.True]     1.1163      1.420      0.786      0.432      -1.667       3.900\n",
            "Region_East_of_England[T.True]                        2.0153      1.012      1.992      0.046       0.032       3.998\n",
            "Region_Greater_London[T.True]                         0.3818      1.225      0.312      0.755      -2.019       2.782\n",
            "Region_Hertfordshire[T.True]                          0.5735      1.118      0.513      0.608      -1.619       2.766\n",
            "Region_Kent[T.True]                                   1.6699      1.230      1.358      0.175      -0.741       4.081\n",
            "Region_Lincolnshire[T.True]                           0.1298      1.225      0.106      0.916      -2.271       2.530\n",
            "Region_London[T.True]                                 0.9643      1.095      0.880      0.379      -1.183       3.111\n",
            "Region_Lothian[T.True]                               -0.1395      1.414     -0.099      0.921      -2.912       2.632\n",
            "Region_North_East[T.True]                             0.5725      1.061      0.540      0.589      -1.507       2.652\n",
            "Region_North_West[T.True]                             1.5992      1.019      1.569      0.117      -0.399       3.597\n",
            "Region_North_West_Wales[T.True]                       0.9767      1.419      0.688      0.491      -1.804       3.758\n",
            "Region_Northamptonshire[T.True]                       1.1163      1.420      0.786      0.432      -1.667       3.900\n",
            "Region_Nottinghamshire[T.True]                        0.7873      1.155      0.682      0.495      -1.476       3.051\n",
            "Region_Oxfordshire[T.True]                            0.2791      1.415      0.197      0.844      -2.493       3.052\n",
            "Region_Pembrokeshire[T.True]                          0.8372      1.418      0.591      0.555      -1.941       3.616\n",
            "Region_Scotland[T.True]                               2.6168      1.006      2.600      0.009       0.644       4.589\n",
            "Region_Scotlands[T.True]                              0.2791      1.415      0.197      0.844      -2.493       3.052\n",
            "Region_Scottish_Borders[T.True]                      -0.1395      1.414     -0.099      0.921      -2.912       2.632\n",
            "Region_Shropshire[T.True]                             0.0673      1.225      0.055      0.956      -2.333       2.468\n",
            "Region_Somerset_excl_North[T.True]                    0.4186      1.415      0.296      0.767      -2.355       3.192\n",
            "Region_South_East[T.True]                             2.0329      1.014      2.005      0.045       0.046       4.020\n",
            "Region_South_Wales[T.True]                            0.1395      1.414      0.099      0.921      -2.632       2.912\n",
            "Region_South_Weest[T.True]                            0.9767      1.419      0.688      0.491      -1.804       3.758\n",
            "Region_South_West[T.True]                             2.2445      1.009      2.225      0.026       0.268       4.221\n",
            "Region_South_east[T.True]                             0.5581      1.416      0.394      0.693      -2.217       3.333\n",
            "Region_South_west[T.True]                             1.1163      1.420      0.786      0.432      -1.667       3.900\n",
            "Region_Staffordshire[T.True]                         -0.0722      1.225     -0.059      0.953      -2.473       2.328\n",
            "Region_Wales[T.True]                                  1.5728      1.016      1.548      0.122      -0.418       3.564\n",
            "Region_Warwickshire[T.True]                           0.6209      1.118      0.555      0.579      -1.570       2.812\n",
            "Region_West_Midlands[T.True]                          1.4919      1.023      1.459      0.145      -0.513       3.497\n",
            "Region_West_midlands[T.True]                          0.5536      1.225      0.452      0.651      -1.847       2.954\n",
            "Region_Yorkshire_and_The_Humber[T.True]               1.5830      1.025      1.544      0.123      -0.426       3.592\n",
            "Region_eicestershire_and_Rutland[T.True]          -1.028e-12      1.414  -7.27e-13      1.000      -2.772       2.772\n",
            "Region_scotland[T.True]                               0.5581      1.416      0.394      0.693      -2.217       3.333\n",
            "Region_wales[T.True]                                  1.9490      1.234      1.580      0.114      -0.469       4.367\n",
            "Year                                                 -0.1395      0.016     -8.509      0.000      -0.172      -0.107\n",
            "=====================================================================================================================\n"
          ]
        }
      ]
    },
    {
      "cell_type": "code",
      "source": [
        "# Fit Negative Binomial model for comparison\n",
        "nb_model = sm.GLM(y, X, family=sm.families.NegativeBinomial()).fit()\n",
        "\n",
        "print(\"\\nNegative Binomial Model Summary:\")\n",
        "print(nb_model.summary())"
      ],
      "metadata": {
        "colab": {
          "base_uri": "https://localhost:8080/"
        },
        "id": "mO2Ya5nwFXnv",
        "outputId": "91c74185-88a2-404a-af0a-4bb1cfc9bd1b"
      },
      "execution_count": 14,
      "outputs": [
        {
          "output_type": "stream",
          "name": "stdout",
          "text": [
            "\n",
            "Negative Binomial Model Summary:\n",
            "                 Generalized Linear Model Regression Results                  \n",
            "==============================================================================\n",
            "Dep. Variable:             Case_Count   No. Observations:                  138\n",
            "Model:                            GLM   Df Residuals:                       89\n",
            "Model Family:        NegativeBinomial   Df Model:                           48\n",
            "Link Function:                    Log   Scale:                          1.0000\n",
            "Method:                          IRLS   Log-Likelihood:                -284.19\n",
            "Date:                Tue, 22 Apr 2025   Deviance:                       28.301\n",
            "Time:                        15:22:53   Pearson chi2:                     29.9\n",
            "No. Iterations:                     8   Pseudo R-squ. (CS):             0.3723\n",
            "Covariance Type:            nonrobust                                         \n",
            "=====================================================================================================================\n",
            "                                                        coef    std err          z      P>|z|      [0.025      0.975]\n",
            "---------------------------------------------------------------------------------------------------------------------\n",
            "Intercept                                           261.2752     66.597      3.923      0.000     130.747     391.803\n",
            "Region_All[T.True]                                    0.1298      2.000      0.065      0.948      -3.791       4.050\n",
            "Region_Ayrshire[T.True]                               0.7552      1.528      0.494      0.621      -2.239       3.750\n",
            "Region_Buckinghamshire[T.True]                       -0.1298      2.000     -0.065      0.948      -4.050       3.791\n",
            "Region_Carmarthenshire[T.True]                        0.7788      2.010      0.387      0.698      -3.160       4.718\n",
            "Region_Ceredigion[T.True]                             0.3894      2.002      0.194      0.846      -3.535       4.314\n",
            "Region_Cornwall_and_Isles_of_Scilly[T.True]           0.8437      1.745      0.484      0.629      -2.576       4.263\n",
            "Region_Cumbria[T.True]                                0.3245      1.733      0.187      0.852      -3.073       3.722\n",
            "Region_Derbyshire[T.True]                             1.1681      2.022      0.578      0.563      -2.795       5.131\n",
            "Region_Devon[T.True]                                  0.9491      1.586      0.598      0.550      -2.159       4.058\n",
            "Region_Dorset[T.True]                                 0.4543      1.736      0.262      0.794      -2.947       3.856\n",
            "Region_Duhram[T.True]                                 0.3894      2.002      0.194      0.846      -3.535       4.314\n",
            "Region_East_Midlands[T.True]                          1.9057      1.511      1.261      0.207      -1.056       4.867\n",
            "Region_East_Riding_and_North_Lincolnshire[T.True]     1.0384      2.017      0.515      0.607      -2.916       4.992\n",
            "Region_East_of_England[T.True]                        1.9753      1.465      1.348      0.178      -0.896       4.847\n",
            "Region_Greater_London[T.True]                         0.6490      1.734      0.374      0.708      -2.751       4.048\n",
            "Region_Hertfordshire[T.True]                          0.5517      1.612      0.342      0.732      -2.608       3.711\n",
            "Region_Kent[T.True]                                   1.6017      1.885      0.850      0.396      -2.093       5.296\n",
            "Region_Lincolnshire[T.True]                           0.1298      1.732      0.075      0.940      -3.266       3.525\n",
            "Region_London[T.True]                                 0.9613      1.645      0.584      0.559      -2.263       4.185\n",
            "Region_Lothian[T.True]                               -0.1298      2.000     -0.065      0.948      -4.050       3.791\n",
            "Region_North_East[T.True]                             0.6279      1.515      0.414      0.679      -2.342       3.597\n",
            "Region_North_West[T.True]                             1.5913      1.473      1.080      0.280      -1.296       4.478\n",
            "Region_North_West_Wales[T.True]                       0.9086      2.013      0.451      0.652      -3.038       4.855\n",
            "Region_Northamptonshire[T.True]                       1.0384      2.017      0.515      0.607      -2.916       4.992\n",
            "Region_Nottinghamshire[T.True]                        0.9453      1.702      0.555      0.579      -2.391       4.281\n",
            "Region_Oxfordshire[T.True]                            0.2596      2.001      0.130      0.897      -3.662       4.182\n",
            "Region_Pembrokeshire[T.True]                          0.7788      2.010      0.387      0.698      -3.160       4.718\n",
            "Region_Scotland[T.True]                               2.5615      1.461      1.753      0.080      -0.303       5.426\n",
            "Region_Scotlands[T.True]                              0.2596      2.001      0.130      0.897      -3.662       4.182\n",
            "Region_Scottish_Borders[T.True]                      -0.1298      2.000     -0.065      0.948      -4.050       3.791\n",
            "Region_Shropshire[T.True]                             0.0649      1.732      0.037      0.970      -3.330       3.460\n",
            "Region_Somerset_excl_North[T.True]                    0.3894      2.002      0.194      0.846      -3.535       4.314\n",
            "Region_South_East[T.True]                             1.8212      1.477      1.233      0.218      -1.074       4.716\n",
            "Region_South_Wales[T.True]                            0.1298      2.000      0.065      0.948      -3.791       4.050\n",
            "Region_South_Weest[T.True]                            0.9086      2.013      0.451      0.652      -3.038       4.855\n",
            "Region_South_West[T.True]                             2.1704      1.458      1.489      0.137      -0.687       5.028\n",
            "Region_South_east[T.True]                             0.5192      2.004      0.259      0.796      -3.409       4.448\n",
            "Region_South_west[T.True]                             1.0384      2.017      0.515      0.607      -2.916       4.992\n",
            "Region_Staffordshire[T.True]                         -0.0649      1.732     -0.037      0.970      -3.460       3.330\n",
            "Region_Wales[T.True]                                  1.5376      1.463      1.051      0.293      -1.331       4.406\n",
            "Region_Warwickshire[T.True]                           0.6072      1.660      0.366      0.715      -2.646       3.861\n",
            "Region_West_Midlands[T.True]                          1.5296      1.485      1.030      0.303      -1.380       4.440\n",
            "Region_West_midlands[T.True]                          0.5634      1.871      0.301      0.763      -3.104       4.231\n",
            "Region_Yorkshire_and_The_Humber[T.True]               1.5891      1.496      1.062      0.288      -1.343       4.521\n",
            "Region_eicestershire_and_Rutland[T.True]          -1.507e-12      2.000  -7.54e-13      1.000      -3.920       3.920\n",
            "Region_scotland[T.True]                               0.5192      2.004      0.259      0.796      -3.409       4.448\n",
            "Region_wales[T.True]                                  1.8613      1.894      0.983      0.326      -1.852       5.574\n",
            "Year                                                 -0.1298      0.033     -3.924      0.000      -0.195      -0.065\n",
            "=====================================================================================================================\n"
          ]
        },
        {
          "output_type": "stream",
          "name": "stderr",
          "text": [
            "/usr/local/lib/python3.11/dist-packages/statsmodels/genmod/families/family.py:1367: ValueWarning: Negative binomial dispersion parameter alpha not set. Using default value alpha=1.0.\n",
            "  warnings.warn(\"Negative binomial dispersion parameter alpha not \"\n"
          ]
        }
      ]
    },
    {
      "cell_type": "code",
      "source": [
        "import numpy as np\n",
        "from scipy.stats import chi2\n",
        "\n",
        "# Get log-likelihoods\n",
        "ll_poisson = poisson_model.llf\n",
        "ll_nb = nb_model.llf\n",
        "\n",
        "# Compute Likelihood Ratio statistic\n",
        "lr_stat = 2 * (ll_nb - ll_poisson)\n",
        "df_diff = nb_model.df_model - poisson_model.df_model  # Difference in degrees of freedom\n",
        "p_value = chi2.sf(lr_stat, df_diff)\n",
        "\n",
        "# Print results\n",
        "print(\"\\nLikelihood Ratio Test:\")\n",
        "print(f\"Test Statistic: {lr_stat:.3f}\")\n",
        "print(f\"Degrees of Freedom: {df_diff}\")\n",
        "print(f\"p-value: {p_value:.3f}\")\n"
      ],
      "metadata": {
        "colab": {
          "base_uri": "https://localhost:8080/"
        },
        "id": "lBt9D8hYFdWk",
        "outputId": "9832d396-fdde-468a-d98e-8a9de5538dd5"
      },
      "execution_count": 17,
      "outputs": [
        {
          "output_type": "stream",
          "name": "stdout",
          "text": [
            "\n",
            "Likelihood Ratio Test:\n",
            "Test Statistic: -56.829\n",
            "Degrees of Freedom: 0\n",
            "p-value: nan\n"
          ]
        }
      ]
    },
    {
      "cell_type": "code",
      "source": [
        "# Residual Analysis\n",
        "\n",
        "plt.figure(figsize=(12, 6))\n",
        "sns.histplot(poisson_model.resid_deviance, kde=True, bins=20)\n",
        "plt.title(\"Deviance Residuals Distribution\", fontsize=14)\n",
        "plt.xlabel(\"Deviance Residuals\", fontsize=12)\n",
        "plt.ylabel(\"Frequency\", fontsize=12)\n",
        "plt.show()"
      ],
      "metadata": {
        "colab": {
          "base_uri": "https://localhost:8080/",
          "height": 569
        },
        "id": "nIQiiEvgFhMo",
        "outputId": "5ebde703-64d4-42f2-98d5-8e7f7a2ba2b4"
      },
      "execution_count": 18,
      "outputs": [
        {
          "output_type": "display_data",
          "data": {
            "text/plain": [
              "<Figure size 1200x600 with 1 Axes>"
            ],
            "image/png": "[encoded data removed]"
          },
          "metadata": {}
        }
      ]
    }
  ]
}