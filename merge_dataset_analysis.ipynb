{
  "nbformat": 4,
  "nbformat_minor": 0,
  "metadata": {
    "colab": {
      "provenance": []
    },
    "kernelspec": {
      "name": "python3",
      "display_name": "Python 3"
    },
    "language_info": {
      "name": "python"
    }
  },
  "cells": [
    {
      "cell_type": "code",
      "source": [
        "from google.colab import drive\n",
        "drive.mount('/content/drive')\n"
      ],
      "metadata": {
        "colab": {
          "base_uri": "https://localhost:8080/"
        },
        "id": "UfDIg5feLTqX",
        "outputId": "1932d4d8-5b28-4c39-8455-37451f793d9f"
      },
      "execution_count": 2,
      "outputs": [
        {
          "output_type": "stream",
          "name": "stdout",
          "text": [
            "Mounted at /content/drive\n"
          ]
        }
      ]
    },
    {
      "cell_type": "markdown",
      "source": [
        "#Libraries"
      ],
      "metadata": {
        "id": "Pdks6CZq5jhN"
      }
    },
    {
      "cell_type": "code",
      "execution_count": 49,
      "metadata": {
        "id": "C6XF2aPiRH0g"
      },
      "outputs": [],
      "source": [
        "import pandas as pd\n",
        "import statsmodels.api as sm\n",
        "import numpy as np\n",
        "import os\n"
      ]
    },
    {
      "cell_type": "markdown",
      "source": [
        "#Dataset Merge"
      ],
      "metadata": {
        "id": "MerYtHGj5rHx"
      }
    },
    {
      "cell_type": "code",
      "source": [
        "import pandas as pd\n",
        "\n",
        "# Load farm density data (external factor influencing outbreaks)\n",
        "farm_density_df = pd.read_csv(\"/content/drive/My Drive/Farm density.csv\")\n",
        "\n",
        "# Load avian case data from the APHA Avian Dashboard dataset\n",
        "dataset_prt_df = pd.read_csv(\"/content/drive/My Drive/Dataset_PRT 564.csv\")\n",
        "\n",
        "# Clean 'Region' names to ensure consistency between datasets\n",
        "farm_density_df['Region'] = farm_density_df['Region'].str.strip().str.lower()\n",
        "dataset_prt_df['Region'] = dataset_prt_df['Region'].str.strip().str.lower()\n",
        "\n",
        "# Aggregate case counts by Region, Year, and Month (spatial-temporal grouping)\n",
        "cases_by_region_month = (\n",
        "    dataset_prt_df\n",
        "    .groupby(['Region', 'Year', 'Month'])\n",
        "    .size()\n",
        "    .reset_index(name='Case_Count')\n",
        ")\n",
        "\n",
        "# Merge the farm density data into the aggregated dataset on the 'Region' field\n",
        "merged_df = pd.merge(cases_by_region_month, farm_density_df, on='Region', how='left')\n",
        "\n",
        "# Identify and report regions missing farm density data\n",
        "print(\"Regions with missing farm data:\", merged_df[merged_df['<5 ha'].isna()]['Region'].unique())\n",
        "\n",
        "# Drop rows with missing farm density info to ensure data integrity\n",
        "merged_df_cleaned = merged_df.dropna(subset=['<5 ha'])\n",
        "\n",
        "# Preview the merged and cleaned dataset\n",
        "merged_df_cleaned.head()\n"
      ],
      "metadata": {
        "colab": {
          "base_uri": "https://localhost:8080/",
          "height": 345
        },
        "id": "t4RNSGmD4FTN",
        "outputId": "f6bad802-be82-410c-dd95-9db4aa58177d"
      },
      "execution_count": 74,
      "outputs": [
        {
          "output_type": "stream",
          "name": "stdout",
          "text": [
            "Regions with missing farm data: ['all' 'ayrshire' 'buckinghamshire' 'carmarthenshire' 'ceredigion'\n",
            " 'cornwall and isles of scilly' 'cumbria' 'derbyshire' 'devon' 'dorset'\n",
            " 'duhram' 'east riding and north lincolnshire' 'eicestershire and rutland'\n",
            " 'greater london' 'hertfordshire' 'kent' 'lincolnshire' 'london' 'lothian'\n",
            " 'north west wales' 'northamptonshire' 'nottinghamshire' 'oxfordshire'\n",
            " 'pembrokeshire' 'scotland' 'scotlands' 'scottish borders' 'shropshire'\n",
            " 'somerset excl north' 'south east' 'south wales' 'south weest'\n",
            " 'staffordshire' 'wales' 'warwickshire']\n"
          ]
        },
        {
          "output_type": "execute_result",
          "data": {
            "text/plain": [
              "           Region  Year  Month  Case_Count  <5 ha  5<20 ha  20<50 ha  \\\n",
              "23  east midlands  2012      3           1   0.12     0.25      0.19   \n",
              "24  east midlands  2012      5           5   0.12     0.25      0.19   \n",
              "25  east midlands  2012      7           2   0.12     0.25      0.19   \n",
              "26  east midlands  2012      8           2   0.12     0.25      0.19   \n",
              "27  east midlands  2012      9           1   0.12     0.25      0.19   \n",
              "\n",
              "    50<100 ha  ≥100 ha  Total  \n",
              "23       0.16     0.28    1.0  \n",
              "24       0.16     0.28    1.0  \n",
              "25       0.16     0.28    1.0  \n",
              "26       0.16     0.28    1.0  \n",
              "27       0.16     0.28    1.0  "
            ],
            "text/html": [
              "\n",
              "  <div id=\"df-b94b4e95-d105-4aeb-a10f-006690a029b2\" class=\"colab-df-container\">\n",
              "    <div>\n",
              "<style scoped>\n",
              "    .dataframe tbody tr th:only-of-type {\n",
              "        vertical-align: middle;\n",
              "    }\n",
              "\n",
              "    .dataframe tbody tr th {\n",
              "        vertical-align: top;\n",
              "    }\n",
              "\n",
              "    .dataframe thead th {\n",
              "        text-align: right;\n",
              "    }\n",
              "</style>\n",
              "<table border=\"1\" class=\"dataframe\">\n",
              "  <thead>\n",
              "    <tr style=\"text-align: right;\">\n",
              "      <th></th>\n",
              "      <th>Region</th>\n",
              "      <th>Year</th>\n",
              "      <th>Month</th>\n",
              "      <th>Case_Count</th>\n",
              "      <th>&lt;5 ha</th>\n",
              "      <th>5&lt;20 ha</th>\n",
              "      <th>20&lt;50 ha</th>\n",
              "      <th>50&lt;100 ha</th>\n",
              "      <th>≥100 ha</th>\n",
              "      <th>Total</th>\n",
              "    </tr>\n",
              "  </thead>\n",
              "  <tbody>\n",
              "    <tr>\n",
              "      <th>23</th>\n",
              "      <td>east midlands</td>\n",
              "      <td>2012</td>\n",
              "      <td>3</td>\n",
              "      <td>1</td>\n",
              "      <td>0.12</td>\n",
              "      <td>0.25</td>\n",
              "      <td>0.19</td>\n",
              "      <td>0.16</td>\n",
              "      <td>0.28</td>\n",
              "      <td>1.0</td>\n",
              "    </tr>\n",
              "    <tr>\n",
              "      <th>24</th>\n",
              "      <td>east midlands</td>\n",
              "      <td>2012</td>\n",
              "      <td>5</td>\n",
              "      <td>5</td>\n",
              "      <td>0.12</td>\n",
              "      <td>0.25</td>\n",
              "      <td>0.19</td>\n",
              "      <td>0.16</td>\n",
              "      <td>0.28</td>\n",
              "      <td>1.0</td>\n",
              "    </tr>\n",
              "    <tr>\n",
              "      <th>25</th>\n",
              "      <td>east midlands</td>\n",
              "      <td>2012</td>\n",
              "      <td>7</td>\n",
              "      <td>2</td>\n",
              "      <td>0.12</td>\n",
              "      <td>0.25</td>\n",
              "      <td>0.19</td>\n",
              "      <td>0.16</td>\n",
              "      <td>0.28</td>\n",
              "      <td>1.0</td>\n",
              "    </tr>\n",
              "    <tr>\n",
              "      <th>26</th>\n",
              "      <td>east midlands</td>\n",
              "      <td>2012</td>\n",
              "      <td>8</td>\n",
              "      <td>2</td>\n",
              "      <td>0.12</td>\n",
              "      <td>0.25</td>\n",
              "      <td>0.19</td>\n",
              "      <td>0.16</td>\n",
              "      <td>0.28</td>\n",
              "      <td>1.0</td>\n",
              "    </tr>\n",
              "    <tr>\n",
              "      <th>27</th>\n",
              "      <td>east midlands</td>\n",
              "      <td>2012</td>\n",
              "      <td>9</td>\n",
              "      <td>1</td>\n",
              "      <td>0.12</td>\n",
              "      <td>0.25</td>\n",
              "      <td>0.19</td>\n",
              "      <td>0.16</td>\n",
              "      <td>0.28</td>\n",
              "      <td>1.0</td>\n",
              "    </tr>\n",
              "  </tbody>\n",
              "</table>\n",
              "</div>\n",
              "    <div class=\"colab-df-buttons\">\n",
              "\n",
              "  <div class=\"colab-df-container\">\n",
              "    <button class=\"colab-df-convert\" onclick=\"convertToInteractive('df-b94b4e95-d105-4aeb-a10f-006690a029b2')\"\n",
              "            title=\"Convert this dataframe to an interactive table.\"\n",
              "            style=\"display:none;\">\n",
              "\n",
              "  <svg xmlns=\"http://www.w3.org/2000/svg\" height=\"24px\" viewBox=\"0 -960 960 960\">\n",
              "    <path d=\"M120-120v-720h720v720H120Zm60-500h600v-160H180v160Zm220 220h160v-160H400v160Zm0 220h160v-160H400v160ZM180-400h160v-160H180v160Zm440 0h160v-160H620v160ZM180-180h160v-160H180v160Zm440 0h160v-160H620v160Z\"/>\n",
              "  </svg>\n",
              "    </button>\n",
              "\n",
              "  <style>\n",
              "    .colab-df-container {\n",
              "      display:flex;\n",
              "      gap: 12px;\n",
              "    }\n",
              "\n",
              "    .colab-df-convert {\n",
              "      background-color: #E8F0FE;\n",
              "      border: none;\n",
              "      border-radius: 50%;\n",
              "      cursor: pointer;\n",
              "      display: none;\n",
              "      fill: #1967D2;\n",
              "      height: 32px;\n",
              "      padding: 0 0 0 0;\n",
              "      width: 32px;\n",
              "    }\n",
              "\n",
              "    .colab-df-convert:hover {\n",
              "      background-color: #E2EBFA;\n",
              "      box-shadow: 0px 1px 2px rgba(60, 64, 67, 0.3), 0px 1px 3px 1px rgba(60, 64, 67, 0.15);\n",
              "      fill: #174EA6;\n",
              "    }\n",
              "\n",
              "    .colab-df-buttons div {\n",
              "      margin-bottom: 4px;\n",
              "    }\n",
              "\n",
              "    [theme=dark] .colab-df-convert {\n",
              "      background-color: #3B4455;\n",
              "      fill: #D2E3FC;\n",
              "    }\n",
              "\n",
              "    [theme=dark] .colab-df-convert:hover {\n",
              "      background-color: #434B5C;\n",
              "      box-shadow: 0px 1px 3px 1px rgba(0, 0, 0, 0.15);\n",
              "      filter: drop-shadow(0px 1px 2px rgba(0, 0, 0, 0.3));\n",
              "      fill: #FFFFFF;\n",
              "    }\n",
              "  </style>\n",
              "\n",
              "    <script>\n",
              "      const buttonEl =\n",
              "        document.querySelector('#df-b94b4e95-d105-4aeb-a10f-006690a029b2 button.colab-df-convert');\n",
              "      buttonEl.style.display =\n",
              "        google.colab.kernel.accessAllowed ? 'block' : 'none';\n",
              "\n",
              "      async function convertToInteractive(key) {\n",
              "        const element = document.querySelector('#df-b94b4e95-d105-4aeb-a10f-006690a029b2');\n",
              "        const dataTable =\n",
              "          await google.colab.kernel.invokeFunction('convertToInteractive',\n",
              "                                                    [key], {});\n",
              "        if (!dataTable) return;\n",
              "\n",
              "        const docLinkHtml = 'Like what you see? Visit the ' +\n",
              "          '<a target=\"_blank\" href=https://colab.research.google.com/notebooks/data_table.ipynb>data table notebook</a>'\n",
              "          + ' to learn more about interactive tables.';\n",
              "        element.innerHTML = '';\n",
              "        dataTable['output_type'] = 'display_data';\n",
              "        await google.colab.output.renderOutput(dataTable, element);\n",
              "        const docLink = document.createElement('div');\n",
              "        docLink.innerHTML = docLinkHtml;\n",
              "        element.appendChild(docLink);\n",
              "      }\n",
              "    </script>\n",
              "  </div>\n",
              "\n",
              "\n",
              "<div id=\"df-7d57872f-e712-494d-826b-3c7e215c30b3\">\n",
              "  <button class=\"colab-df-quickchart\" onclick=\"quickchart('df-7d57872f-e712-494d-826b-3c7e215c30b3')\"\n",
              "            title=\"Suggest charts\"\n",
              "            style=\"display:none;\">\n",
              "\n",
              "<svg xmlns=\"http://www.w3.org/2000/svg\" height=\"24px\"viewBox=\"0 0 24 24\"\n",
              "     width=\"24px\">\n",
              "    <g>\n",
              "        <path d=\"M19 3H5c-1.1 0-2 .9-2 2v14c0 1.1.9 2 2 2h14c1.1 0 2-.9 2-2V5c0-1.1-.9-2-2-2zM9 17H7v-7h2v7zm4 0h-2V7h2v10zm4 0h-2v-4h2v4z\"/>\n",
              "    </g>\n",
              "</svg>\n",
              "  </button>\n",
              "\n",
              "<style>\n",
              "  .colab-df-quickchart {\n",
              "      --bg-color: #E8F0FE;\n",
              "      --fill-color: #1967D2;\n",
              "      --hover-bg-color: #E2EBFA;\n",
              "      --hover-fill-color: #174EA6;\n",
              "      --disabled-fill-color: #AAA;\n",
              "      --disabled-bg-color: #DDD;\n",
              "  }\n",
              "\n",
              "  [theme=dark] .colab-df-quickchart {\n",
              "      --bg-color: #3B4455;\n",
              "      --fill-color: #D2E3FC;\n",
              "      --hover-bg-color: #434B5C;\n",
              "      --hover-fill-color: #FFFFFF;\n",
              "      --disabled-bg-color: #3B4455;\n",
              "      --disabled-fill-color: #666;\n",
              "  }\n",
              "\n",
              "  .colab-df-quickchart {\n",
              "    background-color: var(--bg-color);\n",
              "    border: none;\n",
              "    border-radius: 50%;\n",
              "    cursor: pointer;\n",
              "    display: none;\n",
              "    fill: var(--fill-color);\n",
              "    height: 32px;\n",
              "    padding: 0;\n",
              "    width: 32px;\n",
              "  }\n",
              "\n",
              "  .colab-df-quickchart:hover {\n",
              "    background-color: var(--hover-bg-color);\n",
              "    box-shadow: 0 1px 2px rgba(60, 64, 67, 0.3), 0 1px 3px 1px rgba(60, 64, 67, 0.15);\n",
              "    fill: var(--button-hover-fill-color);\n",
              "  }\n",
              "\n",
              "  .colab-df-quickchart-complete:disabled,\n",
              "  .colab-df-quickchart-complete:disabled:hover {\n",
              "    background-color: var(--disabled-bg-color);\n",
              "    fill: var(--disabled-fill-color);\n",
              "    box-shadow: none;\n",
              "  }\n",
              "\n",
              "  .colab-df-spinner {\n",
              "    border: 2px solid var(--fill-color);\n",
              "    border-color: transparent;\n",
              "    border-bottom-color: var(--fill-color);\n",
              "    animation:\n",
              "      spin 1s steps(1) infinite;\n",
              "  }\n",
              "\n",
              "  @keyframes spin {\n",
              "    0% {\n",
              "      border-color: transparent;\n",
              "      border-bottom-color: var(--fill-color);\n",
              "      border-left-color: var(--fill-color);\n",
              "    }\n",
              "    20% {\n",
              "      border-color: transparent;\n",
              "      border-left-color: var(--fill-color);\n",
              "      border-top-color: var(--fill-color);\n",
              "    }\n",
              "    30% {\n",
              "      border-color: transparent;\n",
              "      border-left-color: var(--fill-color);\n",
              "      border-top-color: var(--fill-color);\n",
              "      border-right-color: var(--fill-color);\n",
              "    }\n",
              "    40% {\n",
              "      border-color: transparent;\n",
              "      border-right-color: var(--fill-color);\n",
              "      border-top-color: var(--fill-color);\n",
              "    }\n",
              "    60% {\n",
              "      border-color: transparent;\n",
              "      border-right-color: var(--fill-color);\n",
              "    }\n",
              "    80% {\n",
              "      border-color: transparent;\n",
              "      border-right-color: var(--fill-color);\n",
              "      border-bottom-color: var(--fill-color);\n",
              "    }\n",
              "    90% {\n",
              "      border-color: transparent;\n",
              "      border-bottom-color: var(--fill-color);\n",
              "    }\n",
              "  }\n",
              "</style>\n",
              "\n",
              "  <script>\n",
              "    async function quickchart(key) {\n",
              "      const quickchartButtonEl =\n",
              "        document.querySelector('#' + key + ' button');\n",
              "      quickchartButtonEl.disabled = true;  // To prevent multiple clicks.\n",
              "      quickchartButtonEl.classList.add('colab-df-spinner');\n",
              "      try {\n",
              "        const charts = await google.colab.kernel.invokeFunction(\n",
              "            'suggestCharts', [key], {});\n",
              "      } catch (error) {\n",
              "        console.error('Error during call to suggestCharts:', error);\n",
              "      }\n",
              "      quickchartButtonEl.classList.remove('colab-df-spinner');\n",
              "      quickchartButtonEl.classList.add('colab-df-quickchart-complete');\n",
              "    }\n",
              "    (() => {\n",
              "      let quickchartButtonEl =\n",
              "        document.querySelector('#df-7d57872f-e712-494d-826b-3c7e215c30b3 button');\n",
              "      quickchartButtonEl.style.display =\n",
              "        google.colab.kernel.accessAllowed ? 'block' : 'none';\n",
              "    })();\n",
              "  </script>\n",
              "</div>\n",
              "\n",
              "    </div>\n",
              "  </div>\n"
            ],
            "application/vnd.google.colaboratory.intrinsic+json": {
              "type": "dataframe",
              "variable_name": "merged_df_cleaned",
              "summary": "{\n  \"name\": \"merged_df_cleaned\",\n  \"rows\": 135,\n  \"fields\": [\n    {\n      \"column\": \"Region\",\n      \"properties\": {\n        \"dtype\": \"category\",\n        \"num_unique_values\": 7,\n        \"samples\": [\n          \"east midlands\",\n          \"east of england\",\n          \"west midlands\"\n        ],\n        \"semantic_type\": \"\",\n        \"description\": \"\"\n      }\n    },\n    {\n      \"column\": \"Year\",\n      \"properties\": {\n        \"dtype\": \"number\",\n        \"std\": 3,\n        \"min\": 2012,\n        \"max\": 2025,\n        \"num_unique_values\": 14,\n        \"samples\": [\n          2022,\n          2021,\n          2012\n        ],\n        \"semantic_type\": \"\",\n        \"description\": \"\"\n      }\n    },\n    {\n      \"column\": \"Month\",\n      \"properties\": {\n        \"dtype\": \"number\",\n        \"std\": 3,\n        \"min\": 1,\n        \"max\": 12,\n        \"num_unique_values\": 12,\n        \"samples\": [\n          10,\n          4,\n          3\n        ],\n        \"semantic_type\": \"\",\n        \"description\": \"\"\n      }\n    },\n    {\n      \"column\": \"Case_Count\",\n      \"properties\": {\n        \"dtype\": \"number\",\n        \"std\": 0,\n        \"min\": 1,\n        \"max\": 5,\n        \"num_unique_values\": 5,\n        \"samples\": [\n          5,\n          4,\n          2\n        ],\n        \"semantic_type\": \"\",\n        \"description\": \"\"\n      }\n    },\n    {\n      \"column\": \"<5 ha\",\n      \"properties\": {\n        \"dtype\": \"number\",\n        \"std\": 0.008577678102858786,\n        \"min\": 0.1,\n        \"max\": 0.14,\n        \"num_unique_values\": 4,\n        \"samples\": [\n          0.13,\n          0.14,\n          0.12\n        ],\n        \"semantic_type\": \"\",\n        \"description\": \"\"\n      }\n    },\n    {\n      \"column\": \"5<20 ha\",\n      \"properties\": {\n        \"dtype\": \"number\",\n        \"std\": 0.03593526518035019,\n        \"min\": 0.2,\n        \"max\": 0.3,\n        \"num_unique_values\": 6,\n        \"samples\": [\n          0.25,\n          0.21,\n          0.23\n        ],\n        \"semantic_type\": \"\",\n        \"description\": \"\"\n      }\n    },\n    {\n      \"column\": \"20<50 ha\",\n      \"properties\": {\n        \"dtype\": \"number\",\n        \"std\": 0.023685333539463237,\n        \"min\": 0.16,\n        \"max\": 0.22,\n        \"num_unique_values\": 5,\n        \"samples\": [\n          0.16,\n          0.21,\n          0.17\n        ],\n        \"semantic_type\": \"\",\n        \"description\": \"\"\n      }\n    },\n    {\n      \"column\": \"50<100 ha\",\n      \"properties\": {\n        \"dtype\": \"number\",\n        \"std\": 0.008966493737813492,\n        \"min\": 0.16,\n        \"max\": 0.19,\n        \"num_unique_values\": 3,\n        \"samples\": [\n          0.16,\n          0.17,\n          0.19\n        ],\n        \"semantic_type\": \"\",\n        \"description\": \"\"\n      }\n    },\n    {\n      \"column\": \"\\u2265100 ha\",\n      \"properties\": {\n        \"dtype\": \"number\",\n        \"std\": 0.06208305925568624,\n        \"min\": 0.19,\n        \"max\": 0.36,\n        \"num_unique_values\": 7,\n        \"samples\": [\n          0.28,\n          0.34,\n          0.2\n        ],\n        \"semantic_type\": \"\",\n        \"description\": \"\"\n      }\n    },\n    {\n      \"column\": \"Total\",\n      \"properties\": {\n        \"dtype\": \"number\",\n        \"std\": 0.0,\n        \"min\": 1.0,\n        \"max\": 1.0,\n        \"num_unique_values\": 1,\n        \"samples\": [\n          1.0\n        ],\n        \"semantic_type\": \"\",\n        \"description\": \"\"\n      }\n    }\n  ]\n}"
            }
          },
          "metadata": {},
          "execution_count": 74
        }
      ]
    },
    {
      "cell_type": "markdown",
      "source": [
        "Merging both datasets ensures data heterogeneity.\n",
        "\n",
        "Aggregating by month and region prepares the data for meaningful temporal analysis.\n",
        "\n",
        "Cleaning ensures model accuracy and avoids training on incomplete or mismatched records."
      ],
      "metadata": {
        "id": "br9P3dqT5ccA"
      }
    },
    {
      "cell_type": "markdown",
      "source": [
        "#Feature Engineering and Preprocessing"
      ],
      "metadata": {
        "id": "7Wwvnrsd5zVr"
      }
    },
    {
      "cell_type": "code",
      "source": [
        "from sklearn.preprocessing import StandardScaler\n",
        "\n",
        "# Define predictor variables (features) and the outcome (target)\n",
        "features = ['<5 ha', '5<20 ha', '20<50 ha', '50<100 ha', '≥100 ha', 'Year', 'Month']\n",
        "target = 'Case_Count'\n",
        "\n",
        "X = merged_df_cleaned[features]\n",
        "y = merged_df_cleaned[target]\n",
        "\n",
        "# Normalize features for scale-invariant model training\n",
        "scaler = StandardScaler()\n",
        "X_scaled = scaler.fit_transform(X)\n",
        "\n",
        "# Display dimensions for verification\n",
        "print(\"Feature matrix shape:\", X_scaled.shape)\n",
        "print(\"Target variable shape:\", y.shape)\n"
      ],
      "metadata": {
        "colab": {
          "base_uri": "https://localhost:8080/"
        },
        "id": "cNM50Dwb23zF",
        "outputId": "81e54548-aa02-4d9c-ff5c-ad9d1fd7c5c8"
      },
      "execution_count": 75,
      "outputs": [
        {
          "output_type": "stream",
          "name": "stdout",
          "text": [
            "Feature matrix shape: (135, 7)\n",
            "Target variable shape: (135,)\n"
          ]
        }
      ]
    },
    {
      "cell_type": "markdown",
      "source": [
        "Standardizing helps regression models (especially linear) perform better by aligning feature scales.\n",
        "\n",
        "Farm size distribution and time indicators are logically selected features based on domain knowledge."
      ],
      "metadata": {
        "id": "2rZNgYR_5geS"
      }
    },
    {
      "cell_type": "markdown",
      "source": [
        "#Regression Modelling and Evaluation"
      ],
      "metadata": {
        "id": "--DnZR3i51WS"
      }
    },
    {
      "cell_type": "code",
      "source": [
        "from sklearn.linear_model import LinearRegression\n",
        "from sklearn.tree import DecisionTreeRegressor\n",
        "from sklearn.metrics import mean_squared_error, r2_score\n",
        "import numpy as np\n",
        "from sklearn.model_selection import train_test_split\n",
        "\n",
        "# Split the data into training and testing sets (80/20) for evaluation\n",
        "X_train, X_test, y_train, y_test = train_test_split(X_scaled, y, test_size=0.2, random_state=42)\n",
        "\n",
        "# Initialize and train Linear Regression model\n",
        "lr_model = LinearRegression()\n",
        "lr_model.fit(X_train, y_train)\n",
        "lr_preds = lr_model.predict(X_test)\n",
        "\n",
        "# Initialize and train Decision Tree Regressor (non-linear alternative)\n",
        "tree_model = DecisionTreeRegressor(random_state=42)\n",
        "tree_model.fit(X_train, y_train)\n",
        "tree_preds = tree_model.predict(X_test)\n",
        "\n",
        "# Define function to print evaluation results\n",
        "def evaluate_model(name, y_true, y_pred):\n",
        "    print(f\"\\n{name} Results\")\n",
        "    print(\"R² Score:\", r2_score(y_true, y_pred))  # Indicates proportion of variance explained\n",
        "    print(\"MSE:\", mean_squared_error(y_true, y_pred))\n",
        "    print(\"RMSE:\", np.sqrt(mean_squared_error(y_true, y_pred)))\n",
        "\n",
        "# Compare both models using evaluation metrics\n",
        "evaluate_model(\"Linear Regression\", y_test, lr_preds)\n",
        "evaluate_model(\"Decision Tree Regression\", y_test, tree_preds)\n",
        "\n"
      ],
      "metadata": {
        "colab": {
          "base_uri": "https://localhost:8080/"
        },
        "id": "qnkxxUH33BUs",
        "outputId": "e3d6b7ad-9589-498c-fcfd-fd6ec06d9da8"
      },
      "execution_count": 76,
      "outputs": [
        {
          "output_type": "stream",
          "name": "stdout",
          "text": [
            "\n",
            "Linear Regression Results\n",
            "R² Score: -0.17630637875694255\n",
            "MSE: 0.6422084207753952\n",
            "RMSE: 0.8013790743308657\n",
            "\n",
            "Decision Tree Regression Results\n",
            "R² Score: -0.8994974874371862\n",
            "MSE: 1.037037037037037\n",
            "RMSE: 1.0183501544346312\n"
          ]
        }
      ]
    },
    {
      "cell_type": "markdown",
      "source": [
        "Linear Regression is interpretable and ideal for assessing feature impact.\n",
        "\n",
        "Decision Tree handles non-linear relationships and may capture complex interactions.\n",
        "\n",
        "R², MSE, and RMSE provide a robust model comparison."
      ],
      "metadata": {
        "id": "jWTAOwxz6Aek"
      }
    },
    {
      "cell_type": "markdown",
      "source": [
        "#Poisson Regression with Interpretability and Residual Analysis"
      ],
      "metadata": {
        "id": "1ecA6TPN6BtX"
      }
    },
    {
      "cell_type": "code",
      "source": [
        "import statsmodels.api as sm\n",
        "\n",
        "# Reconstruct DataFrame with features and target for statsmodels\n",
        "df_poisson = merged_df_cleaned.copy()\n",
        "df_poisson = df_poisson[features + ['Case_Count']]\n",
        "\n",
        "# Add a constant (intercept) for Poisson regression\n",
        "df_poisson = sm.add_constant(df_poisson)\n",
        "\n",
        "# Fit a Poisson regression model (appropriate for count data like Case_Count)\n",
        "poisson_model = sm.GLM(df_poisson['Case_Count'], df_poisson.drop(columns='Case_Count'),\n",
        "                       family=sm.families.Poisson()).fit()\n",
        "\n",
        "# Display summary with coefficients, standard errors, and p-values\n",
        "print(poisson_model.summary())\n",
        "\n"
      ],
      "metadata": {
        "colab": {
          "base_uri": "https://localhost:8080/"
        },
        "id": "B710I8503Zhm",
        "outputId": "1b2105dc-8119-4027-8adc-161ecf42059f"
      },
      "execution_count": 77,
      "outputs": [
        {
          "output_type": "stream",
          "name": "stdout",
          "text": [
            "                 Generalized Linear Model Regression Results                  \n",
            "==============================================================================\n",
            "Dep. Variable:             Case_Count   No. Observations:                  135\n",
            "Model:                            GLM   Df Residuals:                      127\n",
            "Model Family:                 Poisson   Df Model:                            7\n",
            "Link Function:                    Log   Scale:                          1.0000\n",
            "Method:                          IRLS   Log-Likelihood:                -179.75\n",
            "Date:                Tue, 22 Apr 2025   Deviance:                       50.584\n",
            "Time:                        14:24:07   Pearson chi2:                     58.3\n",
            "No. Iterations:                     4   Pseudo R-squ. (CS):            0.05729\n",
            "Covariance Type:            nonrobust                                         \n",
            "==============================================================================\n",
            "                 coef    std err          z      P>|z|      [0.025      0.975]\n",
            "------------------------------------------------------------------------------\n",
            "const         57.5136     46.348      1.241      0.215     -33.327     148.354\n",
            "<5 ha         37.7126     30.839      1.223      0.221     -22.731      98.156\n",
            "5<20 ha       33.1145     22.611      1.465      0.143     -11.201      77.430\n",
            "20<50 ha      27.5363     38.719      0.711      0.477     -48.352     103.425\n",
            "50<100 ha     32.8419     32.197      1.020      0.308     -30.264      95.947\n",
            "≥100 ha       30.7129     22.599      1.359      0.174     -13.579      75.005\n",
            "Year          -0.0442      0.022     -2.030      0.042      -0.087      -0.002\n",
            "Month          0.0340      0.023      1.504      0.133      -0.010       0.078\n",
            "==============================================================================\n"
          ]
        }
      ]
    },
    {
      "cell_type": "markdown",
      "source": [
        "Poisson regression is ideal for count-based outcome variables.\n",
        "\n",
        "Coefficients and p-values help determine statistically significant predictors (e.g., Year).\n",
        "\n",
        "Can be interpreted in percentage terms for real-world policy impact."
      ],
      "metadata": {
        "id": "XzOjtl5L6Ig3"
      }
    },
    {
      "cell_type": "markdown",
      "source": [
        "#Residual Analysis"
      ],
      "metadata": {
        "id": "LatODAlN6MKy"
      }
    },
    {
      "cell_type": "code",
      "source": [
        "import matplotlib.pyplot as plt\n",
        "import seaborn as sns\n",
        "\n",
        "# Extract deviance residuals from Poisson model\n",
        "residuals = poisson_model.resid_deviance\n",
        "\n",
        "# Visualize distribution of residuals\n",
        "plt.figure(figsize=(8, 4))\n",
        "sns.histplot(residuals, bins=20, kde=True)\n",
        "plt.title('Histogram of Deviance Residuals')\n",
        "plt.xlabel('Deviance Residuals')\n",
        "plt.ylabel('Frequency')\n",
        "plt.grid(True)\n",
        "plt.show()\n",
        "\n"
      ],
      "metadata": {
        "colab": {
          "base_uri": "https://localhost:8080/",
          "height": 410
        },
        "id": "VoBtCPMV3fYI",
        "outputId": "3f95b94e-3d2f-4d19-ceaf-6f22e2ad3b90"
      },
      "execution_count": 79,
      "outputs": [
        {
          "output_type": "display_data",
          "data": {
            "text/plain": [
              "<Figure size 800x400 with 1 Axes>"
            ],
            "image/png": "[encoded data removed]"
          },
          "metadata": {}
        }
      ]
    },
    {
      "cell_type": "markdown",
      "source": [
        "Residual analysis validates model assumptions.\n",
        "\n",
        "A near-normal distribution of residuals suggests the model is well-specified."
      ],
      "metadata": {
        "id": "mYHvEC0V6QBs"
      }
    },
    {
      "cell_type": "markdown",
      "source": [
        "#Likelihood Ratio Test"
      ],
      "metadata": {
        "id": "nu6v3Tpp6beJ"
      }
    },
    {
      "cell_type": "code",
      "source": [
        "from statsmodels.discrete.discrete_model import NegativeBinomial\n",
        "from scipy.stats import chi2\n",
        "\n",
        "# Fit Negative Binomial model for comparison\n",
        "nb_model = sm.GLM(df_poisson['Case_Count'], df_poisson.drop(columns='Case_Count'),\n",
        "                  family=sm.families.NegativeBinomial()).fit()\n",
        "\n",
        "# Likelihood ratio test to check if NB improves fit over Poisson\n",
        "lr_stat = 2 * (nb_model.llf - poisson_model.llf)\n",
        "p_value = chi2.sf(lr_stat, df=1)\n",
        "\n",
        "print(\"Likelihood Ratio χ²:\", lr_stat)\n",
        "print(\"p-value:\", p_value)\n",
        "\n"
      ],
      "metadata": {
        "colab": {
          "base_uri": "https://localhost:8080/"
        },
        "id": "QaS3LVCw3pVD",
        "outputId": "b8e1e1d2-798c-49ef-bafc-29e5b8fc58d9"
      },
      "execution_count": 80,
      "outputs": [
        {
          "output_type": "stream",
          "name": "stdout",
          "text": [
            "Likelihood Ratio χ²: -100.3833849638562\n",
            "p-value: 1.0\n"
          ]
        },
        {
          "output_type": "stream",
          "name": "stderr",
          "text": [
            "/usr/local/lib/python3.11/dist-packages/statsmodels/genmod/families/family.py:1367: ValueWarning: Negative binomial dispersion parameter alpha not set. Using default value alpha=1.0.\n",
            "  warnings.warn(\"Negative binomial dispersion parameter alpha not \"\n"
          ]
        }
      ]
    },
    {
      "cell_type": "markdown",
      "source": [
        "Helps test whether overdispersion (variance > mean) warrants a switch to Negative Binomial.\n",
        "\n",
        "If p > 0.05, Poisson model is sufficient"
      ],
      "metadata": {
        "id": "VcXmuwlA6gHt"
      }
    }
  ]
}